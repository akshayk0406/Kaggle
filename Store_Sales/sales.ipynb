{
 "cells": [
  {
   "cell_type": "code",
   "execution_count": 42,
   "metadata": {
    "collapsed": true
   },
   "outputs": [],
   "source": [
    "import pandas as pd\n",
    "import numpy as np\n",
    "\n",
    "train = pd.read_csv(\"data/train.csv\",low_memory=False)\n",
    "test = pd.read_csv(\"data/test.csv\",low_memory=False)\n",
    "store = pd.read_csv(\"data/store.csv\",low_memory=False)\n",
    "\n",
    "train[\"Order\"] = np.arange(train.shape[0])\n",
    "test[\"Order\"] = np.arange(test.shape[0])\n",
    "train = pd.merge(train,store,on=\"Store\",how=\"inner\").set_index(\"Order\").ix[np.arange(train.shape[0]), :]\n",
    "test = pd.merge(test,store,on=\"Store\",how=\"inner\").set_index(\"Order\").ix[np.arange(test.shape[0]), :]"
   ]
  },
  {
   "cell_type": "code",
   "execution_count": 43,
   "metadata": {
    "collapsed": false
   },
   "outputs": [],
   "source": [
    "sales_by_store = train.groupby(\"Store\")\n",
    "Regression_models = {}\n",
    "\n",
    "from sklearn.linear_model import LinearRegression\n",
    "from sklearn.preprocessing import OneHotEncoder\n",
    "#Generating models for each store\n",
    "\n",
    "def convert_categorical_to_numeric(state_holiday):\n",
    "    enc = OneHotEncoder()\n",
    "    state_holiday[state_holiday=='a'] = 1\n",
    "    state_holiday[state_holiday=='b'] = 2\n",
    "    state_holiday[state_holiday=='c'] = 3\n",
    "    enc.fit(state_holiday)\n",
    "    return enc.transform(state_holiday).toarray()\n",
    "\n",
    "\n",
    "for store,store_data in sales_by_store:\n",
    "    X_train = store_data[['Open','Promo','SchoolHoliday']].values\n",
    "    state_holiday = convert_categorical_to_numeric(store_data[['StateHoliday']].values)\n",
    "    X_train = np.concatenate((X_train,state_holiday),axis=1)\n",
    "    Y_train = store_data[['Sales']].values\n",
    "    clf = LinearRegression()\n",
    "    clf.fit(X_train,Y_train)\n",
    "    Regression_models[np.unique(store_data[['Store']].values)[0]] = clf"
   ]
  },
  {
   "cell_type": "code",
   "execution_count": 74,
   "metadata": {
    "collapsed": false
   },
   "outputs": [
    {
     "name": "stderr",
     "output_type": "stream",
     "text": [
      "/Library/Python/2.7/site-packages/ipykernel/__main__.py:19: DeprecationWarning: axis != 0 for ndim == 1; this will raise an error in future versions of numpy\n"
     ]
    }
   ],
   "source": [
    "import math\n",
    "\n",
    "result_ids = []\n",
    "predicted_values = []\n",
    "#Now to predictions\n",
    "for tc,test_df in test.iterrows():\n",
    "    store_id = np.unique(store_data[['Store']].values)[0]\n",
    "    state_holiday = [0,0,0,0]\n",
    "    if 'a' == test_df.StateHoliday:\n",
    "        state_holiday[1] = 1\n",
    "    elif 'b' == test_df.StateHoliday:\n",
    "        state_holiday[2] = 1\n",
    "    elif 'c' == test_df.StateHoliday:\n",
    "        state_holiday[3] = 1\n",
    "    else:\n",
    "        state_holiday[0] = 1 \n",
    "    \n",
    "    X_test = np.array([test_df.Open,test_df.Promo,test_df.SchoolHoliday])\n",
    "    X_test = np.concatenate((X_test,state_holiday),axis=1)\n",
    "    X_test = np.nan_to_num(X_test)\n",
    "    regression_model = Regression_models[test_df.Store]\n",
    "    result_ids.append(test_df.Id)\n",
    "    predicted_values.append(math.ceil(regression_model.predict(X_test)))\n",
    "    "
   ]
  },
  {
   "cell_type": "code",
   "execution_count": 75,
   "metadata": {
    "collapsed": true
   },
   "outputs": [],
   "source": [
    "result_df = pd.DataFrame({'Id':result_ids,'Sales':predicted_values})\n",
    "result_df.to_csv(\"data/output.csv\",index=False)"
   ]
  },
  {
   "cell_type": "code",
   "execution_count": null,
   "metadata": {
    "collapsed": true
   },
   "outputs": [],
   "source": []
  }
 ],
 "metadata": {
  "kernelspec": {
   "display_name": "Python 2",
   "language": "python",
   "name": "python2"
  },
  "language_info": {
   "codemirror_mode": {
    "name": "ipython",
    "version": 2
   },
   "file_extension": ".py",
   "mimetype": "text/x-python",
   "name": "python",
   "nbconvert_exporter": "python",
   "pygments_lexer": "ipython2",
   "version": "2.7.6"
  }
 },
 "nbformat": 4,
 "nbformat_minor": 0
}
